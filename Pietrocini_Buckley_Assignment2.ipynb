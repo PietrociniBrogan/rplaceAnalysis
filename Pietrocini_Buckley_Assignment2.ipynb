{
 "cells": [
  {
   "cell_type": "markdown",
   "id": "5377e025",
   "metadata": {},
   "source": [
    "# r/place Analysis \n",
    "\n",
    "## by: Brogan Pietrocini & Kaden Buckley"
   ]
  },
  {
   "cell_type": "markdown",
   "id": "495ce271",
   "metadata": {},
   "source": [
    "## Unzip .csv's and convert to single parquet process"
   ]
  },
  {
   "cell_type": "code",
   "execution_count": 14,
   "id": "c51b4a5f",
   "metadata": {},
   "outputs": [
    {
     "name": "stdout",
     "output_type": "stream",
     "text": [
      "Processed 2023_place_canvas_history-000000000000.csv.gzip\n",
      "Processed 2023_place_canvas_history-000000000001.csv.gzip\n",
      "Processed 2023_place_canvas_history-000000000002.csv.gzip\n",
      "Processed 2023_place_canvas_history-000000000003.csv.gzip\n",
      "Processed 2023_place_canvas_history-000000000004.csv.gzip\n",
      "Processed 2023_place_canvas_history-000000000005.csv.gzip\n",
      "Processed 2023_place_canvas_history-000000000006.csv.gzip\n",
      "Processed 2023_place_canvas_history-000000000007.csv.gzip\n",
      "Processed 2023_place_canvas_history-000000000008.csv.gzip\n",
      "Processed 2023_place_canvas_history-000000000009.csv.gzip\n",
      "Processed 2023_place_canvas_history-000000000010.csv.gzip\n",
      "Processed 2023_place_canvas_history-000000000011.csv.gzip\n",
      "Processed 2023_place_canvas_history-000000000012.csv.gzip\n",
      "Processed 2023_place_canvas_history-000000000013.csv.gzip\n",
      "Processed 2023_place_canvas_history-000000000014.csv.gzip\n",
      "Processed 2023_place_canvas_history-000000000015.csv.gzip\n",
      "Processed 2023_place_canvas_history-000000000016.csv.gzip\n",
      "Processed 2023_place_canvas_history-000000000017.csv.gzip\n",
      "Processed 2023_place_canvas_history-000000000018.csv.gzip\n",
      "Processed 2023_place_canvas_history-000000000019.csv.gzip\n",
      "Processed 2023_place_canvas_history-000000000020.csv.gzip\n",
      "Processed 2023_place_canvas_history-000000000021.csv.gzip\n",
      "Processed 2023_place_canvas_history-000000000022.csv.gzip\n",
      "Processed 2023_place_canvas_history-000000000023.csv.gzip\n",
      "Processed 2023_place_canvas_history-000000000024.csv.gzip\n",
      "Processed 2023_place_canvas_history-000000000025.csv.gzip\n",
      "Processed 2023_place_canvas_history-000000000026.csv.gzip\n",
      "Processed 2023_place_canvas_history-000000000027.csv.gzip\n",
      "Processed 2023_place_canvas_history-000000000028.csv.gzip\n",
      "Processed 2023_place_canvas_history-000000000029.csv.gzip\n",
      "Processed 2023_place_canvas_history-000000000030.csv.gzip\n",
      "Processed 2023_place_canvas_history-000000000031.csv.gzip\n",
      "Processed 2023_place_canvas_history-000000000032.csv.gzip\n",
      "Processed 2023_place_canvas_history-000000000033.csv.gzip\n",
      "Processed 2023_place_canvas_history-000000000034.csv.gzip\n",
      "Processed 2023_place_canvas_history-000000000035.csv.gzip\n",
      "Processed 2023_place_canvas_history-000000000036.csv.gzip\n",
      "Processed 2023_place_canvas_history-000000000037.csv.gzip\n",
      "Processed 2023_place_canvas_history-000000000038.csv.gzip\n",
      "Processed 2023_place_canvas_history-000000000039.csv.gzip\n",
      "Processed 2023_place_canvas_history-000000000040.csv.gzip\n",
      "Processed 2023_place_canvas_history-000000000041.csv.gzip\n",
      "Processed 2023_place_canvas_history-000000000042.csv.gzip\n",
      "Processed 2023_place_canvas_history-000000000043.csv.gzip\n",
      "Processed 2023_place_canvas_history-000000000044.csv.gzip\n",
      "Processed 2023_place_canvas_history-000000000045.csv.gzip\n",
      "Processed 2023_place_canvas_history-000000000046.csv.gzip\n",
      "Processed 2023_place_canvas_history-000000000047.csv.gzip\n",
      "Processed 2023_place_canvas_history-000000000048.csv.gzip\n",
      "Processed 2023_place_canvas_history-000000000049.csv.gzip\n",
      "Processed 2023_place_canvas_history-000000000050.csv.gzip\n",
      "Processed 2023_place_canvas_history-000000000051.csv.gzip\n",
      "Processed 2023_place_canvas_history-000000000052.csv.gzip\n",
      "Total files processed: 53\n"
     ]
    }
   ],
   "source": [
    "#To create csvs\n",
    "import gzip\n",
    "import pandas as pd\n",
    "import os\n",
    "\n",
    "def read_gzip_csv(file_path, output_path):\n",
    "    try:\n",
    "        with gzip.open(file_path, 'rt', encoding='utf-8') as file:\n",
    "            df = pd.read_csv(file)\n",
    "        df.to_csv(output_path, index=False)\n",
    "        return True\n",
    "    except Exception as e:\n",
    "        print(f\"Error processing file {file_path}: {e}\")\n",
    "        return False\n",
    "\n",
    "def process_all_gzip_in_folder(input_folder, output_folder):\n",
    "    if not os.path.exists(input_folder):\n",
    "        print(f\"Input folder {input_folder} does not exist.\")\n",
    "        return \n",
    "    \n",
    "    if not os.path.exists(output_folder):\n",
    "        os.makedirs(output_folder)\n",
    "\n",
    "    processed_files = 0\n",
    "    for file_name in os.listdir(input_folder):\n",
    "        if file_name.endswith('.gzip'):\n",
    "            input_file_path = os.path.join(input_folder, file_name)\n",
    "            output_file_path = os.path.join(output_folder, file_name[:-5] + '.csv')  # Removes '.gz'\n",
    "\n",
    "            if read_gzip_csv(input_file_path, output_file_path):\n",
    "                processed_files += 1\n",
    "                print(f\"Processed {file_name}\")\n",
    "\n",
    "    print(f\"Total files processed: {processed_files}\")\n",
    "\n",
    "# Set your input and output folder paths\n",
    "input_folder_path = r'C:\\Users\\broga\\OneDrive\\Desktop\\r_place_zipped'\n",
    "output_folder_path = r'C:\\Users\\broga\\OneDrive\\Desktop\\r_place_unzipped'\n",
    "\n",
    "process_all_gzip_in_folder(input_folder_path, output_folder_path)"
   ]
  },
  {
   "cell_type": "code",
   "execution_count": 6,
   "id": "ffe744c9",
   "metadata": {},
   "outputs": [],
   "source": [
    "# Combining to single parquet\n",
    "import os\n",
    "import pyarrow.csv as pv\n",
    "import pyarrow.parquet as pq\n",
    "\n",
    "def csv_folder_to_parquet(csv_folder_path, output_parquet_file):\n",
    "    # Initialize a Parquet writer\n",
    "    parquet_writer = None\n",
    "\n",
    "    for csv_file in os.listdir(csv_folder_path):\n",
    "        if csv_file.endswith('.csv'):\n",
    "            csv_file_path = os.path.join(csv_folder_path, csv_file)\n",
    "            \n",
    "            # Read the CSV file into a PyArrow Table\n",
    "            table = pv.read_csv(csv_file_path)\n",
    "            \n",
    "            # Write to a Parquet file in a streaming manner\n",
    "            if parquet_writer is None:\n",
    "                parquet_writer = pq.ParquetWriter(output_parquet_file, table.schema)\n",
    "            parquet_writer.write_table(table)\n",
    "\n",
    "    # Close the Parquet writer\n",
    "    if parquet_writer:\n",
    "        parquet_writer.close()\n",
    "\n",
    "\n",
    "csv_folder_path = r\"C:\\Users\\broga\\OneDrive\\Desktop\\r_place_unzipped\"  \n",
    "output_parquet_file = r\"C:\\Users\\broga\\OneDrive\\Desktop\\r_place_parquet\\combined.parquet\"\n",
    "csv_folder_to_parquet(csv_folder_path, output_parquet_file)\n"
   ]
  },
  {
   "cell_type": "code",
   "execution_count": 7,
   "id": "c4a96fa4",
   "metadata": {},
   "outputs": [
    {
     "name": "stdout",
     "output_type": "stream",
     "text": [
      "Number of entries (rows) in the Parquet file: 132,224,375\n"
     ]
    }
   ],
   "source": [
    "#Sanity Check\n",
    "import pyarrow.parquet as pq\n",
    "\n",
    "parquet_file_path = r\"C:\\Users\\broga\\OneDrive\\Desktop\\r_place_parquet\\combined.parquet\"\n",
    "parquet_file = pq.ParquetFile(parquet_file_path)\n",
    "\n",
    "print(f\"Number of entries (rows) in the r/place Parquet file: {parquet_file.metadata.num_rows:,d}\")"
   ]
  },
  {
   "cell_type": "markdown",
   "id": "24f90401",
   "metadata": {},
   "source": [
    "# Summary Statistics"
   ]
  },
  {
   "cell_type": "code",
   "execution_count": null,
   "id": "bcece846",
   "metadata": {},
   "outputs": [],
   "source": [
    "import polars as pl\n",
    "\n",
    "# Define the path to your Parquet file\n",
    "parquet_file_path = r\"C:\\Users\\broga\\OneDrive\\Desktop\\r_place_parquet\\combined.parquet\"\n",
    "\n",
    "# Create a lazy dataframe from the Parquet file\n",
    "lazy_df = pl.scan_parquet(parquet_file_path)\n"
   ]
  },
  {
   "cell_type": "markdown",
   "id": "ec927809",
   "metadata": {},
   "source": [
    "## Number of Unique Users"
   ]
  },
  {
   "cell_type": "code",
   "execution_count": 9,
   "id": "301d1e54",
   "metadata": {},
   "outputs": [
    {
     "name": "stdout",
     "output_type": "stream",
     "text": [
      "Number of unique users: shape: (1, 1)\n",
      "┌─────────┐\n",
      "│ user    │\n",
      "│ ---     │\n",
      "│ u32     │\n",
      "╞═════════╡\n",
      "│ 8589732 │\n",
      "└─────────┘\n"
     ]
    }
   ],
   "source": [
    "#Number of unique users\n",
    "\n",
    "# Count the number of unique users\n",
    "unique_users_count = (\n",
    "    lazy_df.select(pl.col(\"user\").n_unique())\n",
    "    .collect()  # Triggers the actual computation\n",
    ")\n",
    "\n",
    "print(\"Number of unique users:\", unique_users_count)\n"
   ]
  },
  {
   "cell_type": "markdown",
   "id": "cc8b6abd",
   "metadata": {},
   "source": [
    "# Top 5 Pixel Colors by Count"
   ]
  },
  {
   "cell_type": "code",
   "execution_count": 21,
   "id": "d739b624",
   "metadata": {},
   "outputs": [
    {
     "name": "stdout",
     "output_type": "stream",
     "text": [
      "Top 5 pixel colors by count:\n",
      "shape: (5, 2)\n",
      "┌─────────────┬──────────┐\n",
      "│ pixel_color ┆ count    │\n",
      "│ ---         ┆ ---      │\n",
      "│ str         ┆ u32      │\n",
      "╞═════════════╪══════════╡\n",
      "│ #000000     ┆ 29041166 │\n",
      "│ #FFFFFF     ┆ 27893555 │\n",
      "│ #FF4500     ┆ 18201679 │\n",
      "│ #FFD635     ┆ 9445982  │\n",
      "│ #3690EA     ┆ 7595884  │\n",
      "└─────────────┴──────────┘\n"
     ]
    }
   ],
   "source": [
    "#Top 5 Pixel Colors by Count\n",
    "\n",
    "# Count the occurrences of each 'pixel_color', sort them, and get the top 5\n",
    "top_colors = (\n",
    "    lazy_df.group_by(\"pixel_color\")\n",
    "           .agg(pl.len().alias(\"count\"))\n",
    "           .sort(by=\"count\",descending=True)  # Sort in descending order\n",
    "           .limit(5)  # Limit to top 5\n",
    "           .collect()  # Trigger the actual computation\n",
    ")\n",
    "\n",
    "print(\"Top 5 pixel colors by count:\")\n",
    "print(top_colors)\n"
   ]
  },
  {
   "cell_type": "markdown",
   "id": "8bc59f09",
   "metadata": {},
   "source": [
    "# Top Pixels by User"
   ]
  },
  {
   "cell_type": "code",
   "execution_count": 25,
   "id": "821abad0",
   "metadata": {},
   "outputs": [
    {
     "name": "stderr",
     "output_type": "stream",
     "text": [
      "C:\\Users\\broga\\AppData\\Local\\Temp\\ipykernel_3940\\3134637935.py:6: DeprecationWarning: `groupby` is deprecated. It has been renamed to `group_by`.\n",
      "  .groupby('user')\n"
     ]
    },
    {
     "name": "stdout",
     "output_type": "stream",
     "text": [
      "shape: (8_589_732, 2)\n",
      "┌───────────────────────────────────┬─────────────┐\n",
      "│ user                              ┆ pixel_count │\n",
      "│ ---                               ┆ ---         │\n",
      "│ str                               ┆ u32         │\n",
      "╞═══════════════════════════════════╪═════════════╡\n",
      "│ kN91vAk/cntIE4qOgH6b06ZWInymLuAe… ┆ 7504        │\n",
      "│ oCgWHk6Cfsa52vAOJBPqBDyKN+OH3Obx… ┆ 6285        │\n",
      "│ /YNNvIErSA5atGXTER7fymCxIY/9xvun… ┆ 5331        │\n",
      "│ bRwFe1qJhazPc7ur8S6hK8U0J0iPFVap… ┆ 4510        │\n",
      "│ ay5U7RmL4QAj/p06ODdMbVh7lc1LqvfZ… ┆ 4390        │\n",
      "│ …                                 ┆ …           │\n",
      "│ yYbQeOkMqLCI0TvoV2PEW9VDomYW1bag… ┆ 1           │\n",
      "│ LAT7BiU3xKtFObypSPxS7mie6KmWniy4… ┆ 1           │\n",
      "│ Y6Vy8lzTmRTaRxdC+LotnRrBDWtoLAAE… ┆ 1           │\n",
      "│ z4Zr5aHfTk2zRNcTZv16lCqWI5QofmMm… ┆ 1           │\n",
      "│ fq+MLSJpnPLaGGhylWY/vuW0I7m7RP1i… ┆ 1           │\n",
      "└───────────────────────────────────┴─────────────┘\n"
     ]
    }
   ],
   "source": [
    "#Top pixels by user\n",
    "\n",
    "# Group by 'user', count the number of rows (pixels) for each user, and sort the results\n",
    "user_pixel_counts = (\n",
    "    lazy_df\n",
    "    .groupby('user')\n",
    "    .agg([\n",
    "        pl.count('user').alias('pixel_count')\n",
    "    ])\n",
    "    .sort(by='pixel_count', descending=True)\n",
    ")\n",
    "\n",
    "# Collect the results (this is where the actual computation happens)\n",
    "sorted_user_pixel_counts_collected = user_pixel_counts.collect()\n",
    "\n",
    "# Display the result\n",
    "print(sorted_user_pixel_counts_collected)"
   ]
  },
  {
   "cell_type": "markdown",
   "id": "a52bcd1e",
   "metadata": {},
   "source": [
    "## Amount of \"users\" over 1,440 Pixels Placed"
   ]
  },
  {
   "cell_type": "code",
   "execution_count": 1,
   "id": "106b606e",
   "metadata": {},
   "outputs": [
    {
     "name": "stdout",
     "output_type": "stream",
     "text": [
      "Number of users with pixel_count greater than 1440: 67\n"
     ]
    }
   ],
   "source": [
    "import polars as pl\n",
    "\n",
    "# Define the path to your Parquet file\n",
    "parquet_file_path = r\"C:\\Users\\broga\\OneDrive\\Desktop\\r_place_parquet\\combined.parquet\"\n",
    "\n",
    "# Create a lazy dataframe from the Parquet file\n",
    "lazy_df = pl.scan_parquet(parquet_file_path)\n",
    "\n",
    "# Calculate the pixel count for each user, then filter and count those with pixel_count greater than 1440\n",
    "user_pixel_count_over_1440 = (\n",
    "    lazy_df.group_by(\"user\")\n",
    "           .agg(pl.len().alias(\"pixel_count\"))\n",
    "           .filter(pl.col(\"pixel_count\") > 1440)\n",
    "           .collect()  \n",
    "           .shape[0]  \n",
    ")\n",
    "\n",
    "print(\"Number of users with pixel_count greater than 1440:\", user_pixel_count_over_1440)\n"
   ]
  }
 ],
 "metadata": {
  "kernelspec": {
   "display_name": "Python 3 (ipykernel)",
   "language": "python",
   "name": "python3"
  },
  "language_info": {
   "codemirror_mode": {
    "name": "ipython",
    "version": 3
   },
   "file_extension": ".py",
   "mimetype": "text/x-python",
   "name": "python",
   "nbconvert_exporter": "python",
   "pygments_lexer": "ipython3",
   "version": "3.11.3"
  }
 },
 "nbformat": 4,
 "nbformat_minor": 5
}
